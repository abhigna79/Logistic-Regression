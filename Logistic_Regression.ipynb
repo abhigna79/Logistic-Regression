{
  "nbformat": 4,
  "nbformat_minor": 0,
  "metadata": {
    "colab": {
      "provenance": []
    },
    "kernelspec": {
      "name": "python3",
      "display_name": "Python 3"
    },
    "language_info": {
      "name": "python"
    }
  },
  "cells": [
    {
      "cell_type": "code",
      "execution_count": null,
      "metadata": {
        "id": "MhZJrFNfBZqK"
      },
      "outputs": [],
      "source": []
    },
    {
      "cell_type": "markdown",
      "source": [
        "#Logistic Regression"
      ],
      "metadata": {
        "id": "iX-z_cd4Baoy"
      }
    },
    {
      "cell_type": "markdown",
      "source": [
        "1. What is Logistic Regression, and how does it differ from Linear Regression?\n",
        "   - Logistic Regression and Linear Regression are both supervised learning algorithms used for prediction, but they serve different purposes and operate differently.\n",
        "   - Linear Regression:\n",
        "   - Purpose: Predicts a continuous output (e.g., price, temperature).\n",
        "   - Output: A real-valued number.\n",
        "   - Example Use Case: Predicting house prices based on features like size and location.\n",
        "\n",
        "2. What is the mathematical equation of Logistic Regression?\n",
        "   - The mathematical equation of Logistic Regression models the probability that a given input\n",
        "𝑥\n",
        "x belongs to a particular class (typically class 1 in binary classification). It is based on the sigmoid function, which maps any real-valued number into the range\n",
        "(\n",
        "0\n",
        ",\n",
        "1\n",
        ").\n",
        "\n",
        "3. Why do we use the Sigmoid function in Logistic Regression?\n",
        "   - We use the sigmoid function in logistic regression because it transforms a linear combination of inputs into a probability value between 0 and 1, which is ideal for binary classification tasks.\n",
        "\n",
        "4. What is the cost function of Logistic Regression?\n",
        "   - The cost function of logistic regression is called the log loss or binary cross-entropy loss. It measures how well the predicted probabilities match the actual class labels (0 or 1).\n",
        "\n",
        "5. What is Regularization in Logistic Regression? Why is it needed?\n",
        "   - Regularization in logistic regression is a technique used to prevent overfitting by adding a penalty to the loss function that discourages overly complex models (i.e., models with very large coefficients).\n",
        "   - What Is Regularization?\n",
        "   - In logistic regression, the goal is to find the best-fitting model by minimizing a cost function (e.g., log-loss). Regularization adds a penalty term to this cost function to control the size of the model coefficients.\n",
        "   - There are two common types of regularization:\n",
        "   - L1 Regularization (Lasso)\n",
        "   - L2 Regularization (Ridge)\n",
        "   - Why Is Regularization Needed?\n",
        "   - Prevents overfitting: In datasets with many features or noise, a logistic regression model can overfit — i.e., learn patterns that do not generalize well.\n",
        "\n",
        "   - Improves generalization: Regularization keeps model complexity in check, helping it perform better on unseen data.\n",
        "\n",
        "   - Stabilizes training: Large weights can cause instability during optimization; regularization constrains them.\n",
        "\n",
        "6. Explain the difference between Lasso, Ridge, and Elastic Net regression?\n",
        "   - Lasso Regression (L1 Regularization):\n",
        "  - Effect: Can shrink some coefficients to exactly zero.\n",
        "\n",
        "  - Use case: Useful when you want feature selection (sparse models).\n",
        "\n",
        "  - Good when you believe only a few features are truly relevant.\n",
        "\n",
        "  - Ridge Regression (L2 Regularization):\n",
        "  - Effect: Shrinks coefficients but does not set them to zero.\n",
        "\n",
        "  - Use case: Best when all features are useful and multicollinearity exists.\n",
        "\n",
        "   - Does not perform feature selection.\n",
        "\n",
        "   - Elastic Net Regression (Combination of L1 and L2):\n",
        "   - Effect: Combines benefits of both Lasso and Ridge:\n",
        "\n",
        "   - Encourages sparsity (like Lasso),\n",
        "\n",
        "   - Stabilizes coefficients for correlated features (like Ridge).\n",
        "\n",
        "7. When should we use Elastic Net instead of Lasso or Ridge?\n",
        "   - Lasso alone can be too aggressive in removing features, especially when the number of predictors is greater than the number of observations or predictors are highly correlated.\n",
        "\n",
        "  - Elastic Net balances sparsity (via L1) and stability (via L2), often yielding better predictive performance and interpretability in such cases.\n",
        "\n",
        "8.  What is the impact of the regularization parameter (λ) in Logistic Regression?\n",
        "    - The regularization parameter λ (lambda) in logistic regression controls the strength of the penalty applied to the model's coefficients. Its impact is critical for balancing bias and variance in your model.\n",
        "    - Effect of λ on Logistic Regression:\n",
        "    -  Small λ (near 0):\n",
        "    - Very little regularization.\n",
        "\n",
        "  - Model behaves like standard logistic regression.\n",
        "\n",
        "  - Coefficients can become large.\n",
        "\n",
        "  - Risk of overfitting (low bias, high variance).\n",
        "  -  Large λ:\n",
        "  - Strong regularization.\n",
        "\n",
        "  - Forces coefficients toward zero (or exactly zero with L1).\n",
        "\n",
        "   - Simplifies the model (lower complexity).\n",
        "\n",
        "   - Risk of underfitting (high bias, low variance).\n",
        "\n",
        "9. What are the key assumptions of Logistic Regression?\n",
        "   - Key Assumptions of Logistic Regression:\n",
        "   - Binary (or categorical) outcome\n",
        "   - Independence of observations\n",
        "   -  Linearity of the logit\n",
        "   - No (or little) multicollinearity\n",
        "   - Large sample size\n",
        "\n",
        "10. What are some alternatives to Logistic Regression for classification tasks?\n",
        "    - There are several powerful alternatives to Logistic Regression for classification tasks, depending on the nature of the data and the problem you're trying to solve.\n",
        "    - Decision Trees\n",
        "    - Random Forests\n",
        "    - Gradient Boosting Machines (e.g., XGBoost, LightGBM, CatBoost)\n",
        "    - Support Vector Machines (SVM)\n",
        "    - k-Nearest Neighbors (k-NN)\n",
        "    - Naive Bayes\n",
        "    - Neural Networks (including Deep Learning)\n",
        "    - Linear Discriminant Analysis (LDA)\n",
        "\n",
        "11. What are Classification Evaluation Metrics?\n",
        "    - Classification evaluation metrics are used to assess the performance of classification models. They help you understand how well your model is making predictions, especially when dealing with imbalanced datasets or varying types of errors.\n",
        "    - Accuracy\n",
        "    -  Precision (Positive Predictive Value)\n",
        "    - Recall (Sensitivity, True Positive Rate)\n",
        "    - F1 Score\n",
        "    - Specificity (True Negative Rate)\n",
        "    -  ROC Curve (Receiver Operating Characteristic Curve)\n",
        "    - AUC-ROC (Area Under the Curve)\n",
        "    - Confusion Matrix\n",
        "    - Matthews Correlation Coefficient (MCC)\n",
        "    - Logarithmic Loss (Log Loss)\n",
        "    - Kappa Statistic (Cohen’s Kappa)\n",
        "\n",
        "12. How does class imbalance affect Logistic Regression?\n",
        "    - Class imbalance can significantly affect the performance of logistic regression, as it may lead to biased model predictions, especially when the class distribution is heavily skewed.\n",
        "    - Bias Toward the Majority Class\n",
        "    - Reduced Sensitivity (Recall) for the Minority Class\n",
        "    - Skewed Evaluation Metrics\n",
        "    - Overfitting to the Majority Class\n",
        "    - Convergence and Optimization Issues\n",
        "\n",
        "13. What is Hyperparameter Tuning in Logistic Regression?\n",
        "    - Hyperparameter tuning in logistic regression refers to the process of selecting the optimal hyperparameters for the model to improve its performance. Hyperparameters are settings or configurations that control the learning process of the algorithm but are not learned from the data itself. In logistic regression, hyperparameters influence how the model fits to the training data, how it generalizes, and how efficient the training process is.\n",
        "\n",
        "14. What are different solvers in Logistic Regression? Which one should be used?\n",
        "    - In logistic regression, the solver is an algorithm used to find the optimal weights or coefficients that minimize the cost function (typically, log-loss or binary cross-entropy). The choice of solver can significantly affect the performance and efficiency of the model, especially for large datasets\n",
        "    - 'liblinear' Solver\n",
        "    - 'newton-cg' Solver\n",
        "    - 'lbfgs' Solver\n",
        "    - 'saga' Solver\n",
        "    - 'batch gradient descent' (Not in scikit-learn directly)\n",
        "    \n",
        "15. How is Logistic Regression extended for multiclass classification?\n",
        "    - Logistic Regression is fundamentally a binary classification algorithm, meaning it predicts a probability for two classes. However, for multiclass classification (where there are more than two classes), logistic regression can be extended using two main strategies:\n",
        "    -  One-vs-Rest (OvR) or One-vs-All (OvA):\n",
        "    - One-vs-One (OvO)\n",
        "\n",
        "16. What are the advantages and disadvantages of Logistic Regression?\n",
        "    - Logistic Regression is a widely used algorithm for classification tasks, and it has several advantages and disadvantages depending on the problem at hand.\n",
        "    - Advantages of Logistic Regression\n",
        "    - Simple and Easy to Understand\n",
        "    - Efficient for Linearly Separable Data\n",
        "    - Works Well with Small to Medium-Sized Datasets\n",
        "    - Interpretable\n",
        "\n",
        "    - Disadvantages of Logistic Regression:\n",
        "    - Assumes Linearity\n",
        "    - Sensitive to Outliers\n",
        "    - Requires Feature Scaling\n",
        "    - Not Good for Complex Relationships\n",
        "    - Sensitive to Multicollinearity\n",
        "\n",
        "17. What are some use cases of Logistic Regression?\n",
        "    - Medical Diagnosis (Binary Classification)\n",
        "    - Spam Email Detection (Binary Classification)\n",
        "    -  Credit Scoring (Binary Classification)\n",
        "    - Customer Churn Prediction (Binary Classification)\n",
        "    - Fraud Detection (Binary Classification)\n",
        "    - Marketing Campaign Effectiveness (Binary Classification)\n",
        "    - Sentiment Analysis (Binary or Multiclass Classification)\n",
        "    - Disease Outbreak Prediction (Binary or Multiclass Classification)\n",
        "\n",
        "18. What is the difference between Softmax Regression and Logistic Regression?\n",
        "    - Logistic Regression is ideal for problems with only two classes (binary classification). It is simpler and more efficient for these types of problems.\n",
        "\n",
        "   - Softmax Regression (Multinomial Logistic Regression) is suited for problems with multiple classes, where the task is to predict one of several possible classes.\n",
        "\n",
        "19. How do we choose between One-vs-Rest (OvR) and Softmax for multiclass classification?\n",
        "    - When deciding between One-vs-Rest (OvR) and Softmax (Multinomial Logistic Regression) for multiclass classification, it is important to understand the trade-offs and characteristics of each method. Both strategies can handle multiclass classification, but they have different approaches and performance characteristics.\n",
        "\n",
        "20. How do we interpret coefficients in Logistic Regression?\n",
        "    - In logistic regression, the coefficients (also called weights) represent the influence of each predictor variable (feature) on the outcome (the dependent variable)\n",
        "    - Sign of the Coefficient\n",
        "    - Magnitude of the Coefficient\n",
        "    - Odds Ratios (Exponentiated Coefficients)\n",
        "    - Key Considerations\n",
        "\n",
        "\n",
        "\n",
        "\n",
        "\n",
        "\n"
      ],
      "metadata": {
        "id": "7-PeMNyxBwIW"
      }
    },
    {
      "cell_type": "markdown",
      "source": [
        "#Practical"
      ],
      "metadata": {
        "id": "oy5BmYocN73g"
      }
    },
    {
      "cell_type": "markdown",
      "source": [
        "1. Write a Python program that loads a dataset, splits it into training and testing sets, applies Logistic\n",
        "Regression, and prints the model accuracy?"
      ],
      "metadata": {
        "id": "A9va02ZpN_Aj"
      }
    },
    {
      "cell_type": "code",
      "source": [
        "# Import necessary libraries\n",
        "import pandas as pd\n",
        "from sklearn.model_selection import train_test_split\n",
        "from sklearn.linear_model import LogisticRegression\n",
        "from sklearn.metrics import accuracy_score\n",
        "from sklearn.datasets import load_iris\n",
        "\n",
        "# Load dataset (you can replace this with your own dataset)\n",
        "data = load_iris()  # For demonstration, we are using the Iris dataset\n",
        "X = data.data  # Features\n",
        "y = data.target  # Target variable\n",
        "\n",
        "# Split the dataset into training and testing sets (80% train, 20% test)\n",
        "X_train, X_test, y_train, y_test = train_test_split(X, y, test_size=0.2, random_state=42)\n",
        "\n",
        "# Initialize the Logistic Regression model\n",
        "model = LogisticRegression(max_iter=200)\n",
        "\n",
        "# Train the model on the training data\n",
        "model.fit(X_train, y_train)\n",
        "\n",
        "# Make predictions on the test set\n",
        "y_pred = model.predict(X_test)\n",
        "\n",
        "# Calculate and print the accuracy\n",
        "accuracy = accuracy_score(y_test, y_pred)\n",
        "print(f\"Model Accuracy: {accuracy * 100:.2f}%\")\n"
      ],
      "metadata": {
        "colab": {
          "base_uri": "https://localhost:8080/"
        },
        "id": "Oua47u5ZODNI",
        "outputId": "0c8d65de-2154-439c-cded-151adfe10231"
      },
      "execution_count": 1,
      "outputs": [
        {
          "output_type": "stream",
          "name": "stdout",
          "text": [
            "Model Accuracy: 100.00%\n"
          ]
        }
      ]
    },
    {
      "cell_type": "markdown",
      "source": [
        "2. Write a Python program to apply L1 regularization (Lasso) on a dataset using LogisticRegression(penalty='l1')\n",
        "and print the model accuracy?"
      ],
      "metadata": {
        "id": "u1hSLMP5OKhi"
      }
    },
    {
      "cell_type": "code",
      "source": [
        "# Import necessary libraries\n",
        "import pandas as pd\n",
        "from sklearn.model_selection import train_test_split\n",
        "from sklearn.linear_model import LogisticRegression\n",
        "from sklearn.metrics import accuracy_score\n",
        "from sklearn.datasets import load_iris\n",
        "\n",
        "# Load dataset (you can replace this with your own dataset)\n",
        "data = load_iris()  # For demonstration, we are using the Iris dataset\n",
        "X = data.data  # Features\n",
        "y = data.target  # Target variable\n",
        "\n",
        "# Split the dataset into training and testing sets (80% train, 20% test)\n",
        "X_train, X_test, y_train, y_test = train_test_split(X, y, test_size=0.2, random_state=42)\n",
        "\n",
        "# Initialize the Logistic Regression model with L1 regularization (Lasso)\n",
        "model = LogisticRegression(penalty='l1', solver='liblinear', max_iter=200)\n",
        "\n",
        "# Train the model on the training data\n",
        "model.fit(X_train, y_train)\n",
        "\n",
        "# Make predictions on the test set\n",
        "y_pred = model.predict(X_test)\n",
        "\n",
        "# Calculate and print the accuracy\n",
        "accuracy = accuracy_score(y_test, y_pred)\n",
        "print(f\"Model Accuracy with L1 Regularization (Lasso): {accuracy * 100:.2f}%\")\n"
      ],
      "metadata": {
        "colab": {
          "base_uri": "https://localhost:8080/"
        },
        "id": "t9cbDD5_OOaa",
        "outputId": "f81a820a-f431-4d1b-98ae-c7fbd1d46d7c"
      },
      "execution_count": 2,
      "outputs": [
        {
          "output_type": "stream",
          "name": "stdout",
          "text": [
            "Model Accuracy with L1 Regularization (Lasso): 100.00%\n"
          ]
        }
      ]
    },
    {
      "cell_type": "markdown",
      "source": [
        "3. Write a Python program to train Logistic Regression with L2 regularization (Ridge) using\n",
        "LogisticRegression(penalty='l2'). Print model accuracy and coefficients?\n"
      ],
      "metadata": {
        "id": "n8YJH2reOb7H"
      }
    },
    {
      "cell_type": "code",
      "source": [
        "# Import necessary libraries\n",
        "import pandas as pd\n",
        "from sklearn.model_selection import train_test_split\n",
        "from sklearn.linear_model import LogisticRegression\n",
        "from sklearn.metrics import accuracy_score\n",
        "from sklearn.datasets import load_iris\n",
        "\n",
        "# Load dataset (you can replace this with your own dataset)\n",
        "data = load_iris()  # For demonstration, we are using the Iris dataset\n",
        "X = data.data  # Features\n",
        "y = data.target  # Target variable\n",
        "\n",
        "# Split the dataset into training and testing sets (80% train, 20% test)\n",
        "X_train, X_test, y_train, y_test = train_test_split(X, y, test_size=0.2, random_state=42)\n",
        "\n",
        "# Initialize the Logistic Regression model with L2 regularization (Ridge)\n",
        "model = LogisticRegression(penalty='l2', solver='lbfgs', max_iter=200)\n",
        "\n",
        "# Train the model on the training data\n",
        "model.fit(X_train, y_train)\n",
        "\n",
        "# Make predictions on the test set\n",
        "y_pred = model.predict(X_test)\n",
        "\n",
        "# Calculate and print the accuracy\n",
        "accuracy = accuracy_score(y_test, y_pred)\n",
        "print(f\"Model Accuracy with L2 Regularization (Ridge): {accuracy * 100:.2f}%\")\n",
        "\n",
        "# Print the coefficients (weights) for each feature\n",
        "print(\"\\nModel Coefficients:\")\n",
        "print(model.coef_)\n"
      ],
      "metadata": {
        "colab": {
          "base_uri": "https://localhost:8080/"
        },
        "id": "raDIzKbjOhyD",
        "outputId": "0c903256-a375-4d0f-9d1a-f0ccc5b7a2b7"
      },
      "execution_count": 3,
      "outputs": [
        {
          "output_type": "stream",
          "name": "stdout",
          "text": [
            "Model Accuracy with L2 Regularization (Ridge): 100.00%\n",
            "\n",
            "Model Coefficients:\n",
            "[[-0.39345607  0.96251768 -2.37512436 -0.99874594]\n",
            " [ 0.50843279 -0.25482714 -0.21301129 -0.77574766]\n",
            " [-0.11497673 -0.70769055  2.58813565  1.7744936 ]]\n"
          ]
        }
      ]
    },
    {
      "cell_type": "markdown",
      "source": [
        "4. Write a Python program to train Logistic Regression with Elastic Net Regularization (penalty='elasticnet')?"
      ],
      "metadata": {
        "id": "ktykho7DOnfI"
      }
    },
    {
      "cell_type": "code",
      "source": [
        "# Import necessary libraries\n",
        "import pandas as pd\n",
        "from sklearn.model_selection import train_test_split\n",
        "from sklearn.linear_model import LogisticRegression\n",
        "from sklearn.metrics import accuracy_score\n",
        "from sklearn.datasets import load_iris\n",
        "\n",
        "# Load dataset (you can replace this with your own dataset)\n",
        "data = load_iris()  # For demonstration, we are using the Iris dataset\n",
        "X = data.data  # Features\n",
        "y = data.target  # Target variable\n",
        "\n",
        "# Split the dataset into training and testing sets (80% train, 20% test)\n",
        "X_train, X_test, y_train, y_test = train_test_split(X, y, test_size=0.2, random_state=42)\n",
        "\n",
        "# Initialize the Logistic Regression model with Elastic Net regularization\n",
        "# l1_ratio is the mix of L1 and L2 regularization\n",
        "model = LogisticRegression(penalty='elasticnet', solver='saga', l1_ratio=0.5, max_iter=200)\n",
        "\n",
        "# Train the model on the training data\n",
        "model.fit(X_train, y_train)\n",
        "\n",
        "# Make predictions on the test set\n",
        "y_pred = model.predict(X_test)\n",
        "\n",
        "# Calculate and print the accuracy\n",
        "accuracy = accuracy_score(y_test, y_pred)\n",
        "print(f\"Model Accuracy with Elastic Net Regularization: {accuracy * 100:.2f}%\")\n",
        "\n",
        "# Print the coefficients (weights) for each feature\n",
        "print(\"\\nModel Coefficients:\")\n",
        "print(model.coef_)\n"
      ],
      "metadata": {
        "colab": {
          "base_uri": "https://localhost:8080/"
        },
        "id": "I6dbY3tOOtEA",
        "outputId": "d8b5a422-99b9-45d1-c1e2-dd7842c17975"
      },
      "execution_count": 4,
      "outputs": [
        {
          "output_type": "stream",
          "name": "stdout",
          "text": [
            "Model Accuracy with Elastic Net Regularization: 100.00%\n",
            "\n",
            "Model Coefficients:\n",
            "[[ 0.38613386  1.77336713 -2.42086081 -0.70667149]\n",
            " [ 0.07876544  0.          0.         -0.58170414]\n",
            " [-1.25776483 -1.5299217   2.5964156   2.07916987]]\n"
          ]
        },
        {
          "output_type": "stream",
          "name": "stderr",
          "text": [
            "/usr/local/lib/python3.11/dist-packages/sklearn/linear_model/_sag.py:348: ConvergenceWarning: The max_iter was reached which means the coef_ did not converge\n",
            "  warnings.warn(\n"
          ]
        }
      ]
    },
    {
      "cell_type": "markdown",
      "source": [
        "5. Write a Python program to train a Logistic Regression model for multiclass classification using\n",
        "multi_class='ovr'?\n"
      ],
      "metadata": {
        "id": "KC2X8fIqO84g"
      }
    },
    {
      "cell_type": "code",
      "source": [
        "# Import necessary libraries\n",
        "import pandas as pd\n",
        "from sklearn.model_selection import train_test_split\n",
        "from sklearn.linear_model import LogisticRegression\n",
        "from sklearn.metrics import accuracy_score\n",
        "from sklearn.datasets import load_iris\n",
        "\n",
        "# Load dataset (you can replace this with your own dataset)\n",
        "data = load_iris()  # For demonstration, we are using the Iris dataset\n",
        "X = data.data  # Features\n",
        "y = data.target  # Target variable (multiclass)\n",
        "\n",
        "# Split the dataset into training and testing sets (80% train, 20% test)\n",
        "X_train, X_test, y_train, y_test = train_test_split(X, y, test_size=0.2, random_state=42)\n",
        "\n",
        "# Initialize the Logistic Regression model with One-vs-Rest strategy for multiclass classification\n",
        "model = LogisticRegression(multi_class='ovr', solver='liblinear', max_iter=200)\n",
        "\n",
        "# Train the model on the training data\n",
        "model.fit(X_train, y_train)\n",
        "\n",
        "# Make predictions on the test set\n",
        "y_pred = model.predict(X_test)\n",
        "\n",
        "# Calculate and print the accuracy\n",
        "accuracy = accuracy_score(y_test, y_pred)\n",
        "print(f\"Model Accuracy with One-vs-Rest Strategy: {accuracy * 100:.2f}%\")\n",
        "\n",
        "# Print the coefficients (weights) for each feature for each class\n",
        "print(\"\\nModel Coefficients for each class:\")\n",
        "print(model.coef_)\n"
      ],
      "metadata": {
        "colab": {
          "base_uri": "https://localhost:8080/"
        },
        "id": "GK7YPkdZPBC9",
        "outputId": "ef020f71-a2e7-4ddb-c8af-4ecc65aea674"
      },
      "execution_count": 5,
      "outputs": [
        {
          "output_type": "stream",
          "name": "stdout",
          "text": [
            "Model Accuracy with One-vs-Rest Strategy: 100.00%\n",
            "\n",
            "Model Coefficients for each class:\n",
            "[[ 0.3711229   1.409712   -2.15210117 -0.95474179]\n",
            " [ 0.49400451 -1.58897112  0.43717015 -1.11187838]\n",
            " [-1.55895271 -1.58893375  2.39874554  2.15556209]]\n"
          ]
        },
        {
          "output_type": "stream",
          "name": "stderr",
          "text": [
            "/usr/local/lib/python3.11/dist-packages/sklearn/linear_model/_logistic.py:1256: FutureWarning: 'multi_class' was deprecated in version 1.5 and will be removed in 1.7. Use OneVsRestClassifier(LogisticRegression(..)) instead. Leave it to its default value to avoid this warning.\n",
            "  warnings.warn(\n"
          ]
        }
      ]
    },
    {
      "cell_type": "markdown",
      "source": [
        "6.Write a Python program to apply GridSearchCV to tune the hyperparameters (C and penalty) of Logistic\n",
        "Regression. Print the best parameters and accuracy?"
      ],
      "metadata": {
        "id": "iwdwCq-_PH6S"
      }
    },
    {
      "cell_type": "code",
      "source": [
        "# Import necessary libraries\n",
        "import pandas as pd\n",
        "from sklearn.model_selection import train_test_split, GridSearchCV\n",
        "from sklearn.linear_model import LogisticRegression\n",
        "from sklearn.metrics import accuracy_score\n",
        "from sklearn.datasets import load_iris\n",
        "\n",
        "# Load dataset (you can replace this with your own dataset)\n",
        "data = load_iris()  # For demonstration, we are using the Iris dataset\n",
        "X = data.data  # Features\n",
        "y = data.target  # Target variable\n",
        "\n",
        "# Split the dataset into training and testing sets (80% train, 20% test)\n",
        "X_train, X_test, y_train, y_test = train_test_split(X, y, test_size=0.2, random_state=42)\n",
        "\n",
        "# Initialize the Logistic Regression model\n",
        "model = LogisticRegression(max_iter=200)\n",
        "\n",
        "# Define the parameter grid to tune\n",
        "param_grid = {\n",
        "    'C': [0.01, 0.1, 1, 10, 100],         # Regularization strength\n",
        "    'penalty': ['l2', 'l1'],              # Regularization type\n",
        "}\n",
        "\n",
        "# Initialize GridSearchCV\n",
        "grid_search = GridSearchCV(estimator=model, param_grid=param_grid, cv=5, verbose=1, n_jobs=-1)\n",
        "\n",
        "# Fit the model using GridSearchCV\n",
        "grid_search.fit(X_train, y_train)\n",
        "\n",
        "# Print the best hyperparameters\n",
        "print(f\"Best Hyperparameters: {grid_search.best_params_}\")\n",
        "\n",
        "# Get the best model from GridSearchCV\n",
        "best_model = grid_search.best_estimator_\n",
        "\n",
        "# Make predictions on the test set\n",
        "y_pred = best_model.predict(X_test)\n",
        "\n",
        "# Calculate and print the accuracy\n",
        "accuracy = accuracy_score(y_test, y_pred)\n",
        "print(f\"Model Accuracy with Best Parameters: {accuracy * 100:.2f}%\")\n"
      ],
      "metadata": {
        "colab": {
          "base_uri": "https://localhost:8080/"
        },
        "id": "ev3r6gY-PT8C",
        "outputId": "f5066723-ec73-49fd-9c68-8b6c53dbec5e"
      },
      "execution_count": 6,
      "outputs": [
        {
          "output_type": "stream",
          "name": "stdout",
          "text": [
            "Fitting 5 folds for each of 10 candidates, totalling 50 fits\n"
          ]
        },
        {
          "output_type": "stream",
          "name": "stderr",
          "text": [
            "/usr/local/lib/python3.11/dist-packages/sklearn/model_selection/_validation.py:528: FitFailedWarning: \n",
            "25 fits failed out of a total of 50.\n",
            "The score on these train-test partitions for these parameters will be set to nan.\n",
            "If these failures are not expected, you can try to debug them by setting error_score='raise'.\n",
            "\n",
            "Below are more details about the failures:\n",
            "--------------------------------------------------------------------------------\n",
            "25 fits failed with the following error:\n",
            "Traceback (most recent call last):\n",
            "  File \"/usr/local/lib/python3.11/dist-packages/sklearn/model_selection/_validation.py\", line 866, in _fit_and_score\n",
            "    estimator.fit(X_train, y_train, **fit_params)\n",
            "  File \"/usr/local/lib/python3.11/dist-packages/sklearn/base.py\", line 1389, in wrapper\n",
            "    return fit_method(estimator, *args, **kwargs)\n",
            "           ^^^^^^^^^^^^^^^^^^^^^^^^^^^^^^^^^^^^^^\n",
            "  File \"/usr/local/lib/python3.11/dist-packages/sklearn/linear_model/_logistic.py\", line 1193, in fit\n",
            "    solver = _check_solver(self.solver, self.penalty, self.dual)\n",
            "             ^^^^^^^^^^^^^^^^^^^^^^^^^^^^^^^^^^^^^^^^^^^^^^^^^^^\n",
            "  File \"/usr/local/lib/python3.11/dist-packages/sklearn/linear_model/_logistic.py\", line 63, in _check_solver\n",
            "    raise ValueError(\n",
            "ValueError: Solver lbfgs supports only 'l2' or None penalties, got l1 penalty.\n",
            "\n",
            "  warnings.warn(some_fits_failed_message, FitFailedWarning)\n",
            "/usr/local/lib/python3.11/dist-packages/sklearn/model_selection/_search.py:1108: UserWarning: One or more of the test scores are non-finite: [0.85833333        nan 0.93333333        nan 0.96666667        nan\n",
            " 0.94166667        nan 0.95              nan]\n",
            "  warnings.warn(\n"
          ]
        },
        {
          "output_type": "stream",
          "name": "stdout",
          "text": [
            "Best Hyperparameters: {'C': 1, 'penalty': 'l2'}\n",
            "Model Accuracy with Best Parameters: 100.00%\n"
          ]
        }
      ]
    },
    {
      "cell_type": "markdown",
      "source": [
        "7. Write a Python program to evaluate Logistic Regression using Stratified K-Fold Cross-Validation. Print the\n",
        "average accuracy?\n"
      ],
      "metadata": {
        "id": "ThbtebwZPer1"
      }
    },
    {
      "cell_type": "code",
      "source": [
        "# Import necessary libraries\n",
        "import numpy as np\n",
        "from sklearn.model_selection import StratifiedKFold\n",
        "from sklearn.linear_model import LogisticRegression\n",
        "from sklearn.metrics import accuracy_score\n",
        "from sklearn.datasets import load_iris\n",
        "\n",
        "# Load dataset (you can replace this with your own dataset)\n",
        "data = load_iris()  # For demonstration, we are using the Iris dataset\n",
        "X = data.data  # Features\n",
        "y = data.target  # Target variable\n",
        "\n",
        "# Initialize Stratified K-Fold Cross-Validation\n",
        "skf = StratifiedKFold(n_splits=5, shuffle=True, random_state=42)  # 5-fold cross-validation\n",
        "\n",
        "# Initialize the Logistic Regression model\n",
        "model = LogisticRegression(max_iter=200)\n",
        "\n",
        "# List to store accuracy scores for each fold\n",
        "accuracies = []\n",
        "\n",
        "# Perform Stratified K-Fold Cross-Validation\n",
        "for train_index, test_index in skf.split(X, y):\n",
        "    X_train, X_test = X[train_index], X[test_index]\n",
        "    y_train, y_test = y[train_index], y[test_index]\n",
        "\n",
        "    # Train the model\n",
        "    model.fit(X_train, y_train)\n",
        "\n",
        "    # Make predictions on the test set\n",
        "    y_pred = model.predict(X_test)\n",
        "\n",
        "    # Calculate accuracy for the current fold\n",
        "    accuracy = accuracy_score(y_test, y_pred)\n",
        "    accuracies.append(accuracy)\n",
        "\n",
        "# Calculate and print the average accuracy\n",
        "average_accuracy = np.mean(accuracies)\n",
        "print(f\"Average Accuracy with Stratified K-Fold Cross-Validation: {average_accuracy * 100:.2f}%\")\n"
      ],
      "metadata": {
        "colab": {
          "base_uri": "https://localhost:8080/"
        },
        "id": "RmUN_hVgPjKA",
        "outputId": "cde8860b-342b-4a61-fccc-2e556a523206"
      },
      "execution_count": 7,
      "outputs": [
        {
          "output_type": "stream",
          "name": "stdout",
          "text": [
            "Average Accuracy with Stratified K-Fold Cross-Validation: 96.67%\n"
          ]
        }
      ]
    },
    {
      "cell_type": "markdown",
      "source": [
        "9. Write a Python program to apply RandomizedSearchCV for tuning hyperparameters (C, penalty, solver) in\n",
        "Logistic Regression. Print the best parameters and accuracy?"
      ],
      "metadata": {
        "id": "b9zw86MLRi36"
      }
    },
    {
      "cell_type": "code",
      "source": [
        "from sklearn.datasets import load_iris\n",
        "import pandas as pd\n",
        "\n",
        "# Load dataset\n",
        "iris = load_iris()\n",
        "X = pd.DataFrame(iris.data, columns=iris.feature_names)\n",
        "y = pd.Series(iris.target)\n",
        "\n",
        "# The rest of the code (model training, hyperparameter tuning) stays the same\n"
      ],
      "metadata": {
        "id": "CGGcTKYbSO6M"
      },
      "execution_count": 15,
      "outputs": []
    },
    {
      "cell_type": "markdown",
      "source": [
        "10. Write a Python program to implement One-vs-One (OvO) Multiclass Logistic Regression and print accuracy?"
      ],
      "metadata": {
        "id": "4M-T6lS4SUGI"
      }
    },
    {
      "cell_type": "code",
      "source": [
        "import pandas as pd\n",
        "from sklearn.model_selection import train_test_split\n",
        "from sklearn.linear_model import LogisticRegression\n",
        "from sklearn.multiclass import OneVsOneClassifier\n",
        "from sklearn.metrics import accuracy_score\n",
        "\n",
        "# Step 1: Load dataset (you can replace this with your dataset)\n",
        "from sklearn.datasets import load_iris\n",
        "iris = load_iris()\n",
        "X = pd.DataFrame(iris.data, columns=iris.feature_names)\n",
        "y = pd.Series(iris.target)\n",
        "\n",
        "# Step 2: Split into training and testing sets\n",
        "X_train, X_test, y_train, y_test = train_test_split(X, y, test_size=0.3, random_state=42)\n",
        "\n",
        "# Step 3: Initialize Logistic Regression and OneVsOne Classifier\n",
        "logreg = LogisticRegression(max_iter=1000)\n",
        "ovo_classifier = OneVsOneClassifier(logreg)\n",
        "\n",
        "# Step 4: Fit the model\n",
        "ovo_classifier.fit(X_train, y_train)\n",
        "\n",
        "# Step 5: Predict and evaluate accuracy\n",
        "y_pred = ovo_classifier.predict(X_test)\n",
        "accuracy = accuracy_score(y_test, y_pred)\n",
        "\n",
        "# Step 6: Output\n",
        "print(f\"Accuracy: {accuracy:.2f}\")\n"
      ],
      "metadata": {
        "colab": {
          "base_uri": "https://localhost:8080/"
        },
        "id": "mXbSKMfsSYTF",
        "outputId": "8e001229-6ef9-414d-9fde-48d1fcdf8664"
      },
      "execution_count": 16,
      "outputs": [
        {
          "output_type": "stream",
          "name": "stdout",
          "text": [
            "Accuracy: 1.00\n"
          ]
        }
      ]
    },
    {
      "cell_type": "markdown",
      "source": [
        "11. Write a Python program to train a Logistic Regression model and visualize the confusion matrix for binary\n",
        "classification?"
      ],
      "metadata": {
        "id": "ubC4yNAGShiy"
      }
    },
    {
      "cell_type": "code",
      "source": [
        "import pandas as pd\n",
        "import numpy as np\n",
        "import seaborn as sns\n",
        "import matplotlib.pyplot as plt\n",
        "from sklearn.model_selection import train_test_split\n",
        "from sklearn.linear_model import LogisticRegression\n",
        "from sklearn.metrics import confusion_matrix\n",
        "from sklearn.datasets import load_iris\n",
        "\n",
        "# Step 1: Load dataset (we use the Iris dataset and focus on two classes)\n",
        "iris = load_iris()\n",
        "X = pd.DataFrame(iris.data, columns=iris.feature_names)\n",
        "y = pd.Series(iris.target)\n",
        "\n",
        "# For binary classification, select only two classes (class 0 and class 1)\n",
        "X = X[y != 2]\n",
        "y = y[y != 2]\n",
        "\n",
        "# Step 2: Split data into training and testing sets\n",
        "X_train, X_test, y_train, y_test = train_test_split(X, y, test_size=0.3, random_state=42)\n",
        "\n",
        "# Step 3: Train Logistic Regression model\n",
        "logreg = LogisticRegression()\n",
        "logreg.fit(X_train, y_train)\n",
        "\n",
        "# Step 4: Predict and compute confusion matrix\n",
        "y_pred = logreg.predict(X_test)\n",
        "cm = confusion_matrix(y_test, y_pred)\n",
        "\n",
        "# Step 5: Visualize confusion matrix using seaborn heatmap\n",
        "plt.figure(figsize=(6, 5))\n",
        "sns.heatmap(cm, annot=True, fmt=\"d\", cmap=\"Blues\", xticklabels=['Class 0', 'Class 1'], yticklabels=['Class 0', 'Class 1'])\n",
        "plt.title(\"Confusion Matrix\")\n",
        "plt.xlabel('Predicted')\n",
        "plt.ylabel('Actual')\n",
        "plt.show()\n"
      ],
      "metadata": {
        "colab": {
          "base_uri": "https://localhost:8080/",
          "height": 487
        },
        "id": "qOUmj8cnSnLt",
        "outputId": "2e2825a9-2f50-41ba-8eef-0ccb9123788b"
      },
      "execution_count": 17,
      "outputs": [
        {
          "output_type": "display_data",
          "data": {
            "text/plain": [
              "<Figure size 600x500 with 2 Axes>"
            ],
            "image/png": "[encoded data removed]"
          },
          "metadata": {}
        }
      ]
    },
    {
      "cell_type": "markdown",
      "source": [
        "12. Write a Python program to train a Logistic Regression model and evaluate its performance using Precision,\n",
        "Recall, and F1-Score?\n"
      ],
      "metadata": {
        "id": "vS0XIlTESuDI"
      }
    },
    {
      "cell_type": "code",
      "source": [
        "import pandas as pd\n",
        "from sklearn.model_selection import train_test_split\n",
        "from sklearn.linear_model import LogisticRegression\n",
        "from sklearn.metrics import classification_report\n",
        "from sklearn.datasets import load_iris\n",
        "\n",
        "# Step 1: Load dataset (using Iris dataset for binary classification)\n",
        "iris = load_iris()\n",
        "X = pd.DataFrame(iris.data, columns=iris.feature_names)\n",
        "y = pd.Series(iris.target)\n",
        "\n",
        "# For binary classification, select only two classes (class 0 and class 1)\n",
        "X = X[y != 2]\n",
        "y = y[y != 2]\n",
        "\n",
        "# Step 2: Split data into training and testing sets\n",
        "X_train, X_test, y_train, y_test = train_test_split(X, y, test_size=0.3, random_state=42)\n",
        "\n",
        "# Step 3: Train Logistic Regression model\n",
        "logreg = LogisticRegression()\n",
        "logreg.fit(X_train, y_train)\n",
        "\n",
        "# Step 4: Predict on the test set\n",
        "y_pred = logreg.predict(X_test)\n",
        "\n",
        "# Step 5: Evaluate performance using Precision, Recall, and F1-Score\n",
        "print(\"Classification Report:\")\n",
        "print(classification_report(y_test, y_pred))\n"
      ],
      "metadata": {
        "colab": {
          "base_uri": "https://localhost:8080/"
        },
        "id": "GQsXH9GnSyz0",
        "outputId": "05193fbf-cdbd-41de-951d-1e5aecb1b980"
      },
      "execution_count": 18,
      "outputs": [
        {
          "output_type": "stream",
          "name": "stdout",
          "text": [
            "Classification Report:\n",
            "              precision    recall  f1-score   support\n",
            "\n",
            "           0       1.00      1.00      1.00        17\n",
            "           1       1.00      1.00      1.00        13\n",
            "\n",
            "    accuracy                           1.00        30\n",
            "   macro avg       1.00      1.00      1.00        30\n",
            "weighted avg       1.00      1.00      1.00        30\n",
            "\n"
          ]
        }
      ]
    },
    {
      "cell_type": "markdown",
      "source": [
        "13. Write a Python program to train a Logistic Regression model on imbalanced data and apply class weights to\n",
        "improve model performance?"
      ],
      "metadata": {
        "id": "sa7UORMrS40D"
      }
    },
    {
      "cell_type": "code",
      "source": [
        "import pandas as pd\n",
        "import numpy as np\n",
        "from sklearn.model_selection import train_test_split\n",
        "from sklearn.linear_model import LogisticRegression\n",
        "from sklearn.metrics import classification_report, confusion_matrix\n",
        "from sklearn.datasets import make_classification\n",
        "\n",
        "# Step 1: Generate imbalanced dataset using make_classification\n",
        "X, y = make_classification(n_samples=1000, n_features=20, n_informative=2,\n",
        "                           n_redundant=10, n_classes=2, weights=[0.9, 0.1], flip_y=0,\n",
        "                           random_state=42)\n",
        "\n",
        "# Check the class distribution\n",
        "print(f\"Class distribution: {np.bincount(y)}\")\n",
        "\n",
        "# Step 2: Split data into training and testing sets\n",
        "X_train, X_test, y_train, y_test = train_test_split(X, y, test_size=0.3, random_state=42)\n",
        "\n",
        "# Step 3: Initialize Logistic Regression model with class weights\n",
        "logreg = LogisticRegression(class_weight='balanced', random_state=42)\n",
        "\n",
        "# Step 4: Train the model\n",
        "logreg.fit(X_train, y_train)\n",
        "\n",
        "# Step 5: Predict on the test set\n",
        "y_pred = logreg.predict(X_test)\n",
        "\n",
        "# Step 6: Evaluate performance using classification report\n",
        "print(\"Classification Report:\")\n",
        "print(classification_report(y_test, y_pred))\n",
        "\n",
        "# Step 7: Confusion matrix to visualize the performance\n",
        "import seaborn as sns\n",
        "import matplotlib.pyplot as plt\n",
        "\n",
        "cm = confusion_matrix(y_test, y_pred)\n",
        "plt.figure(figsize=(6, 5))\n",
        "sns.heatmap(cm, annot=True, fmt=\"d\", cmap=\"Blues\", xticklabels=['Class 0', 'Class 1'], yticklabels=['Class 0', 'Class 1'])\n",
        "plt.title(\"Confusion Matrix\")\n",
        "plt.xlabel('Predicted')\n",
        "plt.ylabel('Actual')\n",
        "plt.show()\n"
      ],
      "metadata": {
        "colab": {
          "base_uri": "https://localhost:8080/",
          "height": 688
        },
        "id": "c9v2yiJJS_DE",
        "outputId": "b237d0dc-b6be-45b1-b44b-a9a39e4e0a16"
      },
      "execution_count": 19,
      "outputs": [
        {
          "output_type": "stream",
          "name": "stdout",
          "text": [
            "Class distribution: [900 100]\n",
            "Classification Report:\n",
            "              precision    recall  f1-score   support\n",
            "\n",
            "           0       0.98      0.91      0.95       266\n",
            "           1       0.56      0.88      0.68        34\n",
            "\n",
            "    accuracy                           0.91       300\n",
            "   macro avg       0.77      0.90      0.81       300\n",
            "weighted avg       0.94      0.91      0.92       300\n",
            "\n"
          ]
        },
        {
          "output_type": "display_data",
          "data": {
            "text/plain": [
              "<Figure size 600x500 with 2 Axes>"
            ],
            "image/png": "[encoded data removed]"
          },
          "metadata": {}
        }
      ]
    },
    {
      "cell_type": "markdown",
      "source": [
        "14. Write a Python program to train Logistic Regression on the Titanic dataset, handle missing values, and\n",
        "evaluate performance?"
      ],
      "metadata": {
        "id": "oCdjgGf_TFfR"
      }
    },
    {
      "cell_type": "code",
      "source": [
        "import pandas as pd\n",
        "from sklearn.model_selection import train_test_split\n",
        "from sklearn.linear_model import LogisticRegression\n",
        "from sklearn.metrics import classification_report\n",
        "from sklearn.preprocessing import LabelEncoder\n",
        "from sklearn.impute import SimpleImputer\n",
        "\n",
        "# Step 1: Load Titanic dataset\n",
        "url = \"https://raw.githubusercontent.com/datasciencedojo/datasets/master/titanic.csv\"\n",
        "df = pd.read_csv(url)\n",
        "\n",
        "# Step 2: Preprocessing the data\n",
        "\n",
        "# Handle missing values:\n",
        "# Use SimpleImputer to fill missing values in numerical columns like 'Age'\n",
        "imputer = SimpleImputer(strategy='mean')  # For 'Age' column\n",
        "df['Age'] = imputer.fit_transform(df[['Age']])\n",
        "\n",
        "# Fill missing values in 'Embarked' with the most frequent value\n",
        "df['Embarked'] = df['Embarked'].fillna(df['Embarked'].mode()[0])\n",
        "\n",
        "# Drop rows with missing target values ('Survived')\n",
        "df = df.dropna(subset=['Survived'])\n",
        "\n",
        "# Step 3: Feature selection and encoding\n",
        "# We will use 'Pclass', 'Sex', 'Age', 'SibSp', 'Parch', 'Fare', and 'Embarked' as features.\n",
        "\n",
        "# Encode categorical variables: 'Sex' and 'Embarked'\n",
        "label_encoder = LabelEncoder()\n",
        "df['Sex'] = label_encoder.fit_transform(df['Sex'])\n",
        "df['Embarked'] = label_encoder.fit_transform(df['Embarked'])\n",
        "\n",
        "# Select features and target variable\n",
        "X = df[['Pclass', 'Sex', 'Age', 'SibSp', 'Parch', 'Fare', 'Embarked']]  # Features\n",
        "y = df['Survived']  # Target\n",
        "\n",
        "# Step 4: Split the dataset into training and testing sets\n",
        "X_train, X_test, y_train, y_test = train_test_split(X, y, test_size=0.3, random_state=42)\n",
        "\n",
        "# Step 5: Train Logistic Regression model\n",
        "logreg = LogisticRegression(max_iter=1000)\n",
        "logreg.fit(X_train, y_train)\n",
        "\n",
        "# Step 6: Make predictions\n",
        "y_pred = logreg.predict(X_test)\n",
        "\n",
        "# Step 7: Evaluate performance using classification report\n",
        "print(\"Classification Report:\")\n",
        "print(classification_report(y_test, y_pred))\n"
      ],
      "metadata": {
        "colab": {
          "base_uri": "https://localhost:8080/"
        },
        "id": "obfoH68oTJZB",
        "outputId": "71c00224-835c-4ca9-b118-bdad3362a376"
      },
      "execution_count": 20,
      "outputs": [
        {
          "output_type": "stream",
          "name": "stdout",
          "text": [
            "Classification Report:\n",
            "              precision    recall  f1-score   support\n",
            "\n",
            "           0       0.82      0.87      0.85       157\n",
            "           1       0.80      0.73      0.76       111\n",
            "\n",
            "    accuracy                           0.81       268\n",
            "   macro avg       0.81      0.80      0.80       268\n",
            "weighted avg       0.81      0.81      0.81       268\n",
            "\n"
          ]
        }
      ]
    },
    {
      "cell_type": "markdown",
      "source": [
        "15.  Write a Python program to apply feature scaling (Standardization) before training a Logistic Regression\n",
        "model. Evaluate its accuracy and compare results with and without scaling?"
      ],
      "metadata": {
        "id": "HYnB0S3ITRRV"
      }
    },
    {
      "cell_type": "code",
      "source": [
        "import pandas as pd\n",
        "from sklearn.datasets import load_iris\n",
        "from sklearn.model_selection import train_test_split\n",
        "from sklearn.linear_model import LogisticRegression\n",
        "from sklearn.preprocessing import StandardScaler\n",
        "from sklearn.metrics import accuracy_score\n",
        "\n",
        "# Step 1: Load the Iris dataset\n",
        "iris = load_iris()\n",
        "X = pd.DataFrame(iris.data, columns=iris.feature_names)\n",
        "y = pd.Series(iris.target)\n",
        "\n",
        "# Step 2: Split data into training and testing sets\n",
        "X_train, X_test, y_train, y_test = train_test_split(X, y, test_size=0.3, random_state=42)\n",
        "\n",
        "# Step 3: Train Logistic Regression model without scaling\n",
        "logreg = LogisticRegression(max_iter=1000)\n",
        "logreg.fit(X_train, y_train)\n",
        "\n",
        "# Step 4: Predict and evaluate accuracy without scaling\n",
        "y_pred_no_scaling = logreg.predict(X_test)\n",
        "accuracy_no_scaling = accuracy_score(y_test, y_pred_no_scaling)\n",
        "\n",
        "print(f\"Accuracy without scaling: {accuracy_no_scaling:.2f}\")\n",
        "\n",
        "# Step 5: Apply feature scaling (standardization)\n",
        "scaler = StandardScaler()\n",
        "X_train_scaled = scaler.fit_transform(X_train)\n",
        "X_test_scaled = scaler.transform(X_test)\n",
        "\n",
        "# Step 6: Train Logistic Regression model with scaling\n",
        "logreg.fit(X_train_scaled, y_train)\n",
        "\n",
        "# Step 7: Predict and evaluate accuracy with scaling\n",
        "y_pred_with_scaling = logreg.predict(X_test_scaled)\n",
        "accuracy_with_scaling = accuracy_score(y_test, y_pred_with_scaling)\n",
        "\n",
        "print(f\"Accuracy with scaling: {accuracy_with_scaling:.2f}\")\n",
        "\n",
        "# Step 8: Compare results\n",
        "if accuracy_with_scaling > accuracy_no_scaling:\n",
        "    print(\"Feature scaling improved the model performance.\")\n",
        "else:\n",
        "    print(\"Feature scaling did not improve the model performance.\")\n"
      ],
      "metadata": {
        "colab": {
          "base_uri": "https://localhost:8080/"
        },
        "id": "6S8k-7deTW-Q",
        "outputId": "d5f25cfb-d17d-4402-85d1-3e3e19a6edfd"
      },
      "execution_count": 21,
      "outputs": [
        {
          "output_type": "stream",
          "name": "stdout",
          "text": [
            "Accuracy without scaling: 1.00\n",
            "Accuracy with scaling: 1.00\n",
            "Feature scaling did not improve the model performance.\n"
          ]
        }
      ]
    },
    {
      "cell_type": "markdown",
      "source": [
        "16. Write a Python program to train Logistic Regression and evaluate its performance using ROC-AUC score?"
      ],
      "metadata": {
        "id": "P0nidnEeTgm3"
      }
    },
    {
      "cell_type": "code",
      "source": [
        "import pandas as pd\n",
        "from sklearn.datasets import load_iris\n",
        "from sklearn.model_selection import train_test_split\n",
        "from sklearn.linear_model import LogisticRegression\n",
        "from sklearn.metrics import roc_auc_score, roc_curve\n",
        "import matplotlib.pyplot as plt\n",
        "\n",
        "# Step 1: Load the Iris dataset (binary classification problem)\n",
        "iris = load_iris()\n",
        "X = pd.DataFrame(iris.data, columns=iris.feature_names)\n",
        "y = pd.Series(iris.target)\n",
        "\n",
        "# Convert the problem into binary classification (class 0 vs class 1)\n",
        "X = X[y != 2]\n",
        "y = y[y != 2]\n",
        "\n",
        "# Step 2: Split data into training and testing sets\n",
        "X_train, X_test, y_train, y_test = train_test_split(X, y, test_size=0.3, random_state=42)\n",
        "\n",
        "# Step 3: Train Logistic Regression model\n",
        "logreg = LogisticRegression()\n",
        "logreg.fit(X_train, y_train)\n",
        "\n",
        "# Step 4: Predict probabilities for the test set (for ROC-AUC calculation)\n",
        "y_pred_proba = logreg.predict_proba(X_test)[:, 1]  # Get probabilities for class 1\n",
        "\n",
        "# Step 5: Calculate ROC-AUC score\n",
        "roc_auc = roc_auc_score(y_test, y_pred_proba)\n",
        "print(f\"ROC-AUC Score: {roc_auc:.2f}\")\n",
        "\n",
        "# Step 6: Plot ROC Curve\n",
        "fpr, tpr, thresholds = roc_curve(y_test, y_pred_proba)\n",
        "\n",
        "plt.figure(figsize=(8, 6))\n",
        "plt.plot(fpr, tpr, color='b', label=f'ROC curve (area = {roc_auc:.2f})')\n",
        "plt.plot([0, 1], [0, 1], color='r', linestyle='--')  # Diagonal line (random classifier)\n",
        "plt.xlabel('False Positive Rate')\n",
        "plt.ylabel('True Positive Rate')\n",
        "plt.title('Receiver Operating Characteristic (ROC) Curve')\n",
        "plt.legend(loc='lower right')\n",
        "plt.show()\n"
      ],
      "metadata": {
        "colab": {
          "base_uri": "https://localhost:8080/",
          "height": 582
        },
        "id": "4NcoA_LKTkg1",
        "outputId": "9d0f1a57-f6fa-4fc1-c161-9fb658a8c18a"
      },
      "execution_count": 22,
      "outputs": [
        {
          "output_type": "stream",
          "name": "stdout",
          "text": [
            "ROC-AUC Score: 1.00\n"
          ]
        },
        {
          "output_type": "display_data",
          "data": {
            "text/plain": [
              "<Figure size 800x600 with 1 Axes>"
            ],
            "image/png": "[encoded data removed]"
          },
          "metadata": {}
        }
      ]
    },
    {
      "cell_type": "markdown",
      "source": [
        "17. Write a Python program to train Logistic Regression using a custom learning rate (C=0.5) and evaluate\n",
        "accuracy?"
      ],
      "metadata": {
        "id": "tpPz7LzHTrPy"
      }
    },
    {
      "cell_type": "code",
      "source": [
        "import pandas as pd\n",
        "from sklearn.datasets import load_iris\n",
        "from sklearn.model_selection import train_test_split\n",
        "from sklearn.linear_model import LogisticRegression\n",
        "from sklearn.metrics import accuracy_score\n",
        "\n",
        "# Step 1: Load the Iris dataset\n",
        "iris = load_iris()\n",
        "X = pd.DataFrame(iris.data, columns=iris.feature_names)\n",
        "y = pd.Series(iris.target)\n",
        "\n",
        "# Convert the problem into binary classification (class 0 vs class 1)\n",
        "X = X[y != 2]\n",
        "y = y[y != 2]\n",
        "\n",
        "# Step 2: Split the data into training and testing sets\n",
        "X_train, X_test, y_train, y_test = train_test_split(X, y, test_size=0.3, random_state=42)\n",
        "\n",
        "# Step 3: Train Logistic Regression with a custom learning rate (C=0.5)\n",
        "logreg = LogisticRegression(C=0.5, max_iter=1000)  # C=0.5 corresponds to a regularization strength\n",
        "logreg.fit(X_train, y_train)\n",
        "\n",
        "# Step 4: Predict on the test set\n",
        "y_pred = logreg.predict(X_test)\n",
        "\n",
        "# Step 5: Evaluate the accuracy\n",
        "accuracy = accuracy_score(y_test, y_pred)\n",
        "print(f\"Accuracy with custom learning rate (C=0.5): {accuracy:.2f}\")\n"
      ],
      "metadata": {
        "colab": {
          "base_uri": "https://localhost:8080/"
        },
        "id": "tozmuMLMTvFH",
        "outputId": "668377fa-9c6a-4b5a-cd8d-1c025b3d2352"
      },
      "execution_count": 23,
      "outputs": [
        {
          "output_type": "stream",
          "name": "stdout",
          "text": [
            "Accuracy with custom learning rate (C=0.5): 1.00\n"
          ]
        }
      ]
    },
    {
      "cell_type": "markdown",
      "source": [
        "18. Write a Python program to train Logistic Regression and identify important features based on model\n",
        "coefficients?"
      ],
      "metadata": {
        "id": "MCU34tPsT0f0"
      }
    },
    {
      "cell_type": "code",
      "source": [
        "import pandas as pd\n",
        "from sklearn.datasets import load_iris\n",
        "from sklearn.model_selection import train_test_split\n",
        "from sklearn.linear_model import LogisticRegression\n",
        "import numpy as np\n",
        "\n",
        "# Step 1: Load the Iris dataset\n",
        "iris = load_iris()\n",
        "X = pd.DataFrame(iris.data, columns=iris.feature_names)\n",
        "y = pd.Series(iris.target)\n",
        "\n",
        "# Convert the problem into binary classification (class 0 vs class 1)\n",
        "X = X[y != 2]\n",
        "y = y[y != 2]\n",
        "\n",
        "# Step 2: Split the data into training and testing sets\n",
        "X_train, X_test, y_train, y_test = train_test_split(X, y, test_size=0.3, random_state=42)\n",
        "\n",
        "# Step 3: Train Logistic Regression model\n",
        "logreg = LogisticRegression(max_iter=1000)\n",
        "logreg.fit(X_train, y_train)\n",
        "\n",
        "# Step 4: Extract the coefficients (weights) of the model\n",
        "coefficients = logreg.coef_[0]\n",
        "features = X.columns\n",
        "\n",
        "# Step 5: Identify important features based on the magnitude of the coefficients\n",
        "coeff_df = pd.DataFrame({'Feature': features, 'Coefficient': coefficients})\n",
        "coeff_df['Abs_Coefficient'] = coeff_df['Coefficient'].apply(np.abs)  # Add a column for absolute value of coefficients\n",
        "\n",
        "# Sort the features by the absolute value of the coefficients\n",
        "coeff_df = coeff_df.sort_values(by='Abs_Coefficient', ascending=False)\n",
        "\n",
        "# Step 6: Display the features with their coefficients\n",
        "print(\"Important features based on coefficients:\\n\")\n",
        "print(coeff_df)\n"
      ],
      "metadata": {
        "colab": {
          "base_uri": "https://localhost:8080/"
        },
        "id": "dOaHW_fNT7e4",
        "outputId": "1b488aa9-99a3-4bdd-80f4-340625e4076b"
      },
      "execution_count": 24,
      "outputs": [
        {
          "output_type": "stream",
          "name": "stdout",
          "text": [
            "Important features based on coefficients:\n",
            "\n",
            "             Feature  Coefficient  Abs_Coefficient\n",
            "2  petal length (cm)     2.152753         2.152753\n",
            "3   petal width (cm)     0.907573         0.907573\n",
            "1   sepal width (cm)    -0.819439         0.819439\n",
            "0  sepal length (cm)     0.449754         0.449754\n"
          ]
        }
      ]
    },
    {
      "cell_type": "markdown",
      "source": [
        "19. Write a Python program to train Logistic Regression and evaluate its performance using Cohen’s Kappa\n",
        "Score?"
      ],
      "metadata": {
        "id": "Ulgse4R5UBh1"
      }
    },
    {
      "cell_type": "code",
      "source": [
        "import pandas as pd\n",
        "from sklearn.datasets import load_iris\n",
        "from sklearn.model_selection import train_test_split\n",
        "from sklearn.linear_model import LogisticRegression\n",
        "from sklearn.metrics import cohen_kappa_score\n",
        "\n",
        "# Step 1: Load the Iris dataset\n",
        "iris = load_iris()\n",
        "X = pd.DataFrame(iris.data, columns=iris.feature_names)\n",
        "y = pd.Series(iris.target)\n",
        "\n",
        "# Convert the problem into binary classification (class 0 vs class 1)\n",
        "X = X[y != 2]\n",
        "y = y[y != 2]\n",
        "\n",
        "# Step 2: Split the data into training and testing sets\n",
        "X_train, X_test, y_train, y_test = train_test_split(X, y, test_size=0.3, random_state=42)\n",
        "\n",
        "# Step 3: Train Logistic Regression model\n",
        "logreg = LogisticRegression(max_iter=1000)\n",
        "logreg.fit(X_train, y_train)\n",
        "\n",
        "# Step 4: Predict on the test set\n",
        "y_pred = logreg.predict(X_test)\n",
        "\n",
        "# Step 5: Evaluate performance using Cohen's Kappa Score\n",
        "kappa_score = cohen_kappa_score(y_test, y_pred)\n",
        "\n",
        "# Print the Cohen's Kappa score\n",
        "print(f\"Cohen's Kappa Score: {kappa_score:.2f}\")\n"
      ],
      "metadata": {
        "colab": {
          "base_uri": "https://localhost:8080/"
        },
        "id": "bs717QZMUGLg",
        "outputId": "d41821ad-368b-4032-dd6d-e0ab61cff72c"
      },
      "execution_count": 25,
      "outputs": [
        {
          "output_type": "stream",
          "name": "stdout",
          "text": [
            "Cohen's Kappa Score: 1.00\n"
          ]
        }
      ]
    },
    {
      "cell_type": "markdown",
      "source": [
        "20. Write a Python program to train Logistic Regression and visualize the Precision-Recall Curve for binary\n",
        "classificatio?"
      ],
      "metadata": {
        "id": "u6tYGAf5UMOq"
      }
    },
    {
      "cell_type": "code",
      "source": [
        "import pandas as pd\n",
        "from sklearn.datasets import load_iris\n",
        "from sklearn.model_selection import train_test_split\n",
        "from sklearn.linear_model import LogisticRegression\n",
        "from sklearn.metrics import precision_recall_curve\n",
        "import matplotlib.pyplot as plt\n",
        "\n",
        "# Step 1: Load the Iris dataset\n",
        "iris = load_iris()\n",
        "X = pd.DataFrame(iris.data, columns=iris.feature_names)\n",
        "y = pd.Series(iris.target)\n",
        "\n",
        "# Convert the problem into binary classification (class 0 vs class 1)\n",
        "X = X[y != 2]\n",
        "y = y[y != 2]\n",
        "\n",
        "# Step 2: Split the data into training and testing sets\n",
        "X_train, X_test, y_train, y_test = train_test_split(X, y, test_size=0.3, random_state=42)\n",
        "\n",
        "# Step 3: Train Logistic Regression model\n",
        "logreg = LogisticRegression(max_iter=1000)\n",
        "logreg.fit(X_train, y_train)\n",
        "\n",
        "# Step 4: Predict probabilities on the test set (for precision-recall calculation)\n",
        "y_pred_proba = logreg.predict_proba(X_test)[:, 1]  # Get probabilities for class 1\n",
        "\n",
        "# Step 5: Calculate Precision-Recall curve values\n",
        "precision, recall, thresholds = precision_recall_curve(y_test, y_pred_proba)\n",
        "\n",
        "# Step 6: Visualize the Precision-Recall Curve\n",
        "plt.figure(figsize=(8, 6))\n",
        "plt.plot(recall, precision, color='b', label='Precision-Recall curve')\n",
        "plt.xlabel('Recall')\n",
        "plt.ylabel('Precision')\n",
        "plt.title('Precision-Recall Curve')\n",
        "plt.legend(loc='best')\n",
        "plt.grid(True)\n",
        "plt.show()\n"
      ],
      "metadata": {
        "colab": {
          "base_uri": "https://localhost:8080/",
          "height": 564
        },
        "id": "EqS6YH-oUTiz",
        "outputId": "6625492b-d274-482e-e324-361e80614c9a"
      },
      "execution_count": 26,
      "outputs": [
        {
          "output_type": "display_data",
          "data": {
            "text/plain": [
              "<Figure size 800x600 with 1 Axes>"
            ],
            "image/png": "[encoded data removed]"
          },
          "metadata": {}
        }
      ]
    },
    {
      "cell_type": "markdown",
      "source": [
        "21. Write a Python program to train Logistic Regression with different solvers (liblinear, saga, lbfgs) and compare\n",
        "their accuracy?"
      ],
      "metadata": {
        "id": "a4gusOCQUZ55"
      }
    },
    {
      "cell_type": "code",
      "source": [
        "import pandas as pd\n",
        "from sklearn.datasets import load_iris\n",
        "from sklearn.model_selection import train_test_split\n",
        "from sklearn.linear_model import LogisticRegression\n",
        "from sklearn.metrics import accuracy_score\n",
        "\n",
        "# Step 1: Load the Iris dataset\n",
        "iris = load_iris()\n",
        "X = pd.DataFrame(iris.data, columns=iris.feature_names)\n",
        "y = pd.Series(iris.target)\n",
        "\n",
        "# Convert the problem into binary classification (class 0 vs class 1)\n",
        "X = X[y != 2]\n",
        "y = y[y != 2]\n",
        "\n",
        "# Step 2: Split the data into training and testing sets\n",
        "X_train, X_test, y_train, y_test = train_test_split(X, y, test_size=0.3, random_state=42)\n",
        "\n",
        "# Solvers to compare\n",
        "solvers = ['liblinear', 'saga', 'lbfgs']\n",
        "accuracy_results = {}\n",
        "\n",
        "# Step 3: Train Logistic Regression with different solvers and evaluate\n",
        "for solver in solvers:\n",
        "    logreg = LogisticRegression(solver=solver, max_iter=1000)\n",
        "    logreg.fit(X_train, y_train)\n",
        "    y_pred = logreg.predict(X_test)\n",
        "    accuracy = accuracy_score(y_test, y_pred)\n",
        "    accuracy_results[solver] = accuracy\n",
        "\n",
        "# Step 4: Compare the accuracy results\n",
        "print(\"Accuracy comparison for different solvers:\")\n",
        "for solver, accuracy in accuracy_results.items():\n",
        "    print(f\"Solver: {solver}, Accuracy: {accuracy:.4f}\")\n"
      ],
      "metadata": {
        "colab": {
          "base_uri": "https://localhost:8080/"
        },
        "id": "S9qsvoZqUd17",
        "outputId": "b3667f02-97b2-496b-cf48-3ca8e0033cfd"
      },
      "execution_count": 27,
      "outputs": [
        {
          "output_type": "stream",
          "name": "stdout",
          "text": [
            "Accuracy comparison for different solvers:\n",
            "Solver: liblinear, Accuracy: 1.0000\n",
            "Solver: saga, Accuracy: 1.0000\n",
            "Solver: lbfgs, Accuracy: 1.0000\n"
          ]
        }
      ]
    },
    {
      "cell_type": "markdown",
      "source": [
        "22. Write a Python program to train Logistic Regression and evaluate its performance using Matthews\n",
        "Correlation Coefficient (MCC)?"
      ],
      "metadata": {
        "id": "bHYpXujxUkiN"
      }
    },
    {
      "cell_type": "code",
      "source": [
        "import pandas as pd\n",
        "from sklearn.datasets import load_iris\n",
        "from sklearn.model_selection import train_test_split\n",
        "from sklearn.linear_model import LogisticRegression\n",
        "from sklearn.metrics import matthews_corrcoef\n",
        "\n",
        "# Step 1: Load the Iris dataset\n",
        "iris = load_iris()\n",
        "X = pd.DataFrame(iris.data, columns=iris.feature_names)\n",
        "y = pd.Series(iris.target)\n",
        "\n",
        "# Convert the problem into binary classification (class 0 vs class 1)\n",
        "X = X[y != 2]\n",
        "y = y[y != 2]\n",
        "\n",
        "# Step 2: Split the data into training and testing sets\n",
        "X_train, X_test, y_train, y_test = train_test_split(X, y, test_size=0.3, random_state=42)\n",
        "\n",
        "# Step 3: Train Logistic Regression model\n",
        "logreg = LogisticRegression(max_iter=1000)\n",
        "logreg.fit(X_train, y_train)\n",
        "\n",
        "# Step 4: Predict on the test set\n",
        "y_pred = logreg.predict(X_test)\n",
        "\n",
        "# Step 5: Evaluate performance using Matthews Correlation Coefficient (MCC)\n",
        "mcc_score = matthews_corrcoef(y_test, y_pred)\n",
        "\n",
        "# Print the MCC score\n",
        "print(f\"Matthews Correlation Coefficient (MCC): {mcc_score:.4f}\")\n"
      ],
      "metadata": {
        "colab": {
          "base_uri": "https://localhost:8080/"
        },
        "id": "IM_KJLZzUokY",
        "outputId": "7f3bff20-8652-44f2-c4d2-196534511bae"
      },
      "execution_count": 28,
      "outputs": [
        {
          "output_type": "stream",
          "name": "stdout",
          "text": [
            "Matthews Correlation Coefficient (MCC): 1.0000\n"
          ]
        }
      ]
    },
    {
      "cell_type": "markdown",
      "source": [
        "23. Write a Python program to train Logistic Regression on both raw and standardized data. Compare their\n",
        "accuracy to see the impact of feature scaling?"
      ],
      "metadata": {
        "id": "aFrHL93sUvBq"
      }
    },
    {
      "cell_type": "code",
      "source": [
        "import pandas as pd\n",
        "from sklearn.datasets import load_iris\n",
        "from sklearn.model_selection import train_test_split\n",
        "from sklearn.linear_model import LogisticRegression\n",
        "from sklearn.preprocessing import StandardScaler\n",
        "from sklearn.metrics import accuracy_score\n",
        "\n",
        "# Step 1: Load the Iris dataset\n",
        "iris = load_iris()\n",
        "X = pd.DataFrame(iris.data, columns=iris.feature_names)\n",
        "y = pd.Series(iris.target)\n",
        "\n",
        "# Convert the problem into binary classification (class 0 vs class 1)\n",
        "X = X[y != 2]\n",
        "y = y[y != 2]\n",
        "\n",
        "# Step 2: Split the data into training and testing sets\n",
        "X_train, X_test, y_train, y_test = train_test_split(X, y, test_size=0.3, random_state=42)\n",
        "\n",
        "# Step 3: Train Logistic Regression on raw data\n",
        "logreg_raw = LogisticRegression(max_iter=1000)\n",
        "logreg_raw.fit(X_train, y_train)\n",
        "y_pred_raw = logreg_raw.predict(X_test)\n",
        "accuracy_raw = accuracy_score(y_test, y_pred_raw)\n",
        "\n",
        "# Step 4: Standardize the data (mean=0, std=1)\n",
        "scaler = StandardScaler()\n",
        "X_train_scaled = scaler.fit_transform(X_train)\n",
        "X_test_scaled = scaler.transform(X_test)\n",
        "\n",
        "# Step 5: Train Logistic Regression on standardized data\n",
        "logreg_scaled = LogisticRegression(max_iter=1000)\n",
        "logreg_scaled.fit(X_train_scaled, y_train)\n",
        "y_pred_scaled = logreg_scaled.predict(X_test_scaled)\n",
        "accuracy_scaled = accuracy_score(y_test, y_pred_scaled)\n",
        "\n",
        "# Step 6: Compare accuracy results\n",
        "print(f\"Accuracy with raw data: {accuracy_raw:.4f}\")\n",
        "print(f\"Accuracy with standardized data: {accuracy_scaled:.4f}\")\n"
      ],
      "metadata": {
        "colab": {
          "base_uri": "https://localhost:8080/"
        },
        "id": "YBBgapEEU0FW",
        "outputId": "87159565-c0c2-4920-e738-44d26276501f"
      },
      "execution_count": 29,
      "outputs": [
        {
          "output_type": "stream",
          "name": "stdout",
          "text": [
            "Accuracy with raw data: 1.0000\n",
            "Accuracy with standardized data: 1.0000\n"
          ]
        }
      ]
    },
    {
      "cell_type": "markdown",
      "source": [
        "24. Write a Python program to train Logistic Regression and find the optimal C (regularization strength) using\n",
        "cross-validation?"
      ],
      "metadata": {
        "id": "PSzBxt6nU8NG"
      }
    },
    {
      "cell_type": "code",
      "source": [
        "import pandas as pd\n",
        "from sklearn.datasets import load_iris\n",
        "from sklearn.model_selection import train_test_split, cross_val_score\n",
        "from sklearn.linear_model import LogisticRegression\n",
        "import numpy as np\n",
        "\n",
        "# Step 1: Load the Iris dataset\n",
        "iris = load_iris()\n",
        "X = pd.DataFrame(iris.data, columns=iris.feature_names)\n",
        "y = pd.Series(iris.target)\n",
        "\n",
        "# Convert the problem into binary classification (class 0 vs class 1)\n",
        "X = X[y != 2]\n",
        "y = y[y != 2]\n",
        "\n",
        "# Step 2: Split the data into training and testing sets\n",
        "X_train, X_test, y_train, y_test = train_test_split(X, y, test_size=0.3, random_state=42)\n",
        "\n",
        "# Step 3: Define a range of values for C (regularization strength)\n",
        "C_values = np.logspace(-5, 5, 11)  # Values from 1e-5 to 1e5, spaced logarithmically\n",
        "\n",
        "# Step 4: Use cross-validation to evaluate Logistic Regression for each value of C\n",
        "cv_scores = []\n",
        "\n",
        "for C in C_values:\n",
        "    logreg = LogisticRegression(C=C, max_iter=1000)\n",
        "    scores = cross_val_score(logreg, X_train, y_train, cv=5, scoring='accuracy')  # 5-fold cross-validation\n",
        "    cv_scores.append(scores.mean())  # Store the mean accuracy for each value of C\n",
        "\n",
        "# Step 5: Find the optimal C with the highest cross-validation score\n",
        "optimal_C = C_values[np.argmax(cv_scores)]\n",
        "best_accuracy = max(cv_scores)\n",
        "\n",
        "# Step 6: Print the results\n",
        "print(f\"Optimal value of C: {optimal_C}\")\n",
        "print(f\"Best cross-validation accuracy: {best_accuracy:.4f}\")\n"
      ],
      "metadata": {
        "colab": {
          "base_uri": "https://localhost:8080/"
        },
        "id": "a0SatLaYU_2E",
        "outputId": "16f36db6-4a98-4354-a7a5-4d51cd3dabd6"
      },
      "execution_count": 30,
      "outputs": [
        {
          "output_type": "stream",
          "name": "stdout",
          "text": [
            "Optimal value of C: 0.01\n",
            "Best cross-validation accuracy: 1.0000\n"
          ]
        }
      ]
    },
    {
      "cell_type": "markdown",
      "source": [
        "25. Write a Python program to train Logistic Regression, save the trained model using joblib, and load it again to\n",
        "make predictions?"
      ],
      "metadata": {
        "id": "fZkHM4-xVJNi"
      }
    },
    {
      "cell_type": "code",
      "source": [
        "import pandas as pd\n",
        "from sklearn.datasets import load_iris\n",
        "from sklearn.model_selection import train_test_split\n",
        "from sklearn.linear_model import LogisticRegression\n",
        "import joblib\n",
        "from sklearn.metrics import accuracy_score\n",
        "\n",
        "# Step 1: Load the Iris dataset\n",
        "iris = load_iris()\n",
        "X = pd.DataFrame(iris.data, columns=iris.feature_names)\n",
        "y = pd.Series(iris.target)\n",
        "\n",
        "# Convert the problem into binary classification (class 0 vs class 1)\n",
        "X = X[y != 2]\n",
        "y = y[y != 2]\n",
        "\n",
        "# Step 2: Split the data into training and testing sets\n",
        "X_train, X_test, y_train, y_test = train_test_split(X, y, test_size=0.3, random_state=42)\n",
        "\n",
        "# Step 3: Train Logistic Regression model\n",
        "logreg = LogisticRegression(max_iter=1000)\n",
        "logreg.fit(X_train, y_train)\n",
        "\n",
        "# Step 4: Save the trained model using joblib\n",
        "joblib_file = 'logreg_model.pkl'  # Name of the file where model will be saved\n",
        "joblib.dump(logreg, joblib_file)\n",
        "print(f\"Model saved to {joblib_file}\")\n",
        "\n",
        "# Step 5: Load the saved model\n",
        "loaded_model = joblib.load(joblib_file)\n",
        "print(f\"Model loaded from {joblib_file}\")\n",
        "\n",
        "# Step 6: Make predictions using the loaded model\n",
        "y_pred = loaded_model.predict(X_test)\n",
        "\n",
        "# Step 7: Evaluate the accuracy of the loaded model\n",
        "accuracy = accuracy_score(y_test, y_pred)\n",
        "print(f\"Accuracy of the loaded model: {accuracy:.4f}\")\n"
      ],
      "metadata": {
        "colab": {
          "base_uri": "https://localhost:8080/"
        },
        "id": "C6wg7vErVNw2",
        "outputId": "64d5a3c7-c0bd-49c0-9068-3613055b2fd3"
      },
      "execution_count": 31,
      "outputs": [
        {
          "output_type": "stream",
          "name": "stdout",
          "text": [
            "Model saved to logreg_model.pkl\n",
            "Model loaded from logreg_model.pkl\n",
            "Accuracy of the loaded model: 1.0000\n"
          ]
        }
      ]
    }
  ]
}